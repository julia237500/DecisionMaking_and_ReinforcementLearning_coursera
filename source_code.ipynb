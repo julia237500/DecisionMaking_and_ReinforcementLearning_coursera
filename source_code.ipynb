{
 "cells": [
  {
   "cell_type": "markdown",
   "metadata": {},
   "source": [
    "Utility Theory\n",
    "In this assignment, we will learn how to maximize game utility and choose actions based on utility values.\n",
    "\n",
    "Consider a set of actions among which an RL agent can choose. In a deterministic scenario, each action is associated with a reward or utility U\n",
    "and may transition into a next state.\n",
    "\n",
    "In a probabilistic case, we are interested in the expected utility EU of an action a that takes us from a given state s to a state s′. \n",
    "We compute the expected utility EU(a) of the action a as the weighted average utility of resultant states.\n",
    "\n",
    "EU(a)=∑s′Pr(s′)U(s′)\n",
    "The action a∗=argmaxaEU(a) maximizes the expected utility.\n",
    "\n",
    "We will implement a simple method to get EU(a) for an arbitrary set of utility values. Let us consider the mini-gridworld example. Consider a grid with three states S: A, B, C\n",
    "Utility of each state being +3, -2, +1 respectively\n",
    "Actions A: L and R for moving left and right respectively\n",
    "Agent starting at state B\n",
    "Agent moving in the chosen direction with a probability of 0.7, in the opposite direction with a probability of 0.2, and not moving at all with a probability of 0.1\n",
    "Assume there is no wall around the grid. That is, the agent can move out of the grid with zero utility gain.\n",
    "\n",
    "Do not modify any pre-defined variables. Doing so can affect the autograder results.\n",
    "Ensures the solution generalizes to different values of Utilities (U)\n"
   ]
  },
  {
   "cell_type": "code",
   "execution_count": null,
   "metadata": {},
   "outputs": [],
   "source": [
    "# required constants\n",
    "\n",
    "S = [0, 1, 2] # shorthand for A, B, C\n",
    "A = [-1, 1]   # shorthand for L, R\n",
    "U = [3, -2, 1]# utility for each state "
   ]
  },
  {
   "cell_type": "code",
   "execution_count": null,
   "metadata": {},
   "outputs": [],
   "source": [
    "#Using the given formula to compute \n",
    "#Compute the expected utility given an action and evidence for cell B.\n",
    "\n",
    "def get_expected_utility(action, state):\n",
    "    EU = 0.0\n",
    "    \n",
    "    # Map state names 'A', 'B', 'C' to their indices\n",
    "    state_to_index = {'A': 0, 'B': 1, 'C': 2}\n",
    "    s_idx = state_to_index[state]\n",
    "\n",
    "    # Move correctly\n",
    "    successor_s = s_idx + action\n",
    "    if 0 <= successor_s <= 2:\n",
    "        EU += 0.7 * U[successor_s]\n",
    "    else:\n",
    "        EU += 0.7 * 0  # moving out → utility 0\n",
    "\n",
    "    # Move wrongly (opposite direction)\n",
    "    next_s_wrong = s_idx - action\n",
    "    if 0 <= next_s_wrong <= 2:\n",
    "        EU += 0.2 * U[next_s_wrong]\n",
    "    else:\n",
    "        EU += 0.2 * 0\n",
    "\n",
    "    # Stay in the same place\n",
    "    EU += 0.1 * U[s_idx]\n",
    "\n",
    "    return EU"
   ]
  },
  {
   "cell_type": "code",
   "execution_count": null,
   "metadata": {},
   "outputs": [],
   "source": [
    "#Doing a sanity check\n",
    "assert abs(2.1 - get_expected_utility(-1, 'B')) < 1e-3, \"If this fails, try to find the utility of moving left from state B by hand\""
   ]
  },
  {
   "cell_type": "code",
   "execution_count": null,
   "metadata": {},
   "outputs": [],
   "source": [
    "#Equipped with the method, find the action that returns the maximum expected utility.\n",
    "def get_best_action(state):\n",
    "    \"\"\"\n",
    "    return: action -1 or 1, left or right\n",
    "    \"\"\"\n",
    "    action = None\n",
    "    \n",
    "    best_action = None\n",
    "    best_EU = float('-inf')  # start with very small number\n",
    "\n",
    "    for action in A:\n",
    "        EU = get_expected_utility(action, state)\n",
    "        if EU > best_EU:\n",
    "            best_EU = EU\n",
    "            best_action = action\n",
    "\n",
    "    return best_action"
   ]
  },
  {
   "cell_type": "code",
   "execution_count": null,
   "metadata": {},
   "outputs": [],
   "source": [
    "#Test again\n",
    "assert get_best_action('B') == -1, \"You can either move left or right. If minigrid was deterministic, what will a rational agent choose?\"\n",
    "assert get_best_action('C') == 1"
   ]
  }
 ],
 "metadata": {
  "language_info": {
   "name": "python"
  }
 },
 "nbformat": 4,
 "nbformat_minor": 2
}
